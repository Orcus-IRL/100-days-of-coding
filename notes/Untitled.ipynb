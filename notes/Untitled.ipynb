{
 "cells": [
  {
   "cell_type": "code",
   "execution_count": 1,
   "id": "cf4b93a2",
   "metadata": {},
   "outputs": [
    {
     "name": "stdout",
     "output_type": "stream",
     "text": [
      "welcome to Band Name Generator\n",
      "What's the name of the city you grew up in?\n",
      "v\n",
      "What's your pet name?\n",
      "k\n",
      "your band name could be v k\n"
     ]
    }
   ],
   "source": [
    "print(\"welcome to Band Name Generator\")\n",
    "name =input(\"What's the name of the city you grew up in?\\n\")\n",
    "pet_name= input(\"What's your pet name?\\n\")\n",
    "\n",
    "print(\"your band name could be\",name +\" \" \n",
    " + pet_name )"
   ]
  },
  {
   "cell_type": "code",
   "execution_count": null,
   "id": "637083de",
   "metadata": {},
   "outputs": [],
   "source": []
  }
 ],
 "metadata": {
  "kernelspec": {
   "display_name": "Python 3 (ipykernel)",
   "language": "python",
   "name": "python3"
  },
  "language_info": {
   "codemirror_mode": {
    "name": "ipython",
    "version": 3
   },
   "file_extension": ".py",
   "mimetype": "text/x-python",
   "name": "python",
   "nbconvert_exporter": "python",
   "pygments_lexer": "ipython3",
   "version": "3.9.13"
  }
 },
 "nbformat": 4,
 "nbformat_minor": 5
}
