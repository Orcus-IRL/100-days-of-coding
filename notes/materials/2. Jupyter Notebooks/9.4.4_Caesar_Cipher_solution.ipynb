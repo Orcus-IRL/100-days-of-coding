{
 "cells": [
  {
   "cell_type": "markdown",
   "metadata": {},
   "source": [
    "# Caesar Cipher"
   ]
  },
  {
   "cell_type": "code",
   "execution_count": 1,
   "metadata": {},
   "outputs": [],
   "source": [
    "alphabet = 'abcdefghijklmnopqrstuvwxyz'"
   ]
  },
  {
   "cell_type": "code",
   "execution_count": 2,
   "metadata": {},
   "outputs": [],
   "source": [
    "input_text = 'hello'"
   ]
  },
  {
   "cell_type": "markdown",
   "metadata": {},
   "source": [
    "## Build a very simple version"
   ]
  },
  {
   "cell_type": "code",
   "execution_count": 3,
   "metadata": {},
   "outputs": [
    {
     "name": "stdout",
     "output_type": "stream",
     "text": [
      "khoor\n"
     ]
    }
   ],
   "source": [
    "output = ''\n",
    "for char in input_text:\n",
    "    alpha_index = alphabet.find(char)\n",
    "    output = output + alphabet[alpha_index+3]\n",
    "print(output)    "
   ]
  },
  {
   "cell_type": "markdown",
   "metadata": {},
   "source": [
    "## What if cipher index goes beyond end of alphabet?"
   ]
  },
  {
   "cell_type": "code",
   "execution_count": 4,
   "metadata": {},
   "outputs": [
    {
     "ename": "IndexError",
     "evalue": "string index out of range",
     "output_type": "error",
     "traceback": [
      "\u001b[1;31m---------------------------------------------------------------------------\u001b[0m",
      "\u001b[1;31mIndexError\u001b[0m                                Traceback (most recent call last)",
      "\u001b[1;32m<ipython-input-4-7bcb29b52761>\u001b[0m in \u001b[0;36m<module>\u001b[1;34m\u001b[0m\n\u001b[0;32m      2\u001b[0m \u001b[1;32mfor\u001b[0m \u001b[0mchar\u001b[0m \u001b[1;32min\u001b[0m \u001b[0minput_text\u001b[0m\u001b[1;33m:\u001b[0m\u001b[1;33m\u001b[0m\u001b[1;33m\u001b[0m\u001b[0m\n\u001b[0;32m      3\u001b[0m     \u001b[0malpha_index\u001b[0m \u001b[1;33m=\u001b[0m \u001b[0malphabet\u001b[0m\u001b[1;33m.\u001b[0m\u001b[0mfind\u001b[0m\u001b[1;33m(\u001b[0m\u001b[0mchar\u001b[0m\u001b[1;33m)\u001b[0m\u001b[1;33m\u001b[0m\u001b[1;33m\u001b[0m\u001b[0m\n\u001b[1;32m----> 4\u001b[1;33m     \u001b[0moutput\u001b[0m \u001b[1;33m=\u001b[0m \u001b[0moutput\u001b[0m \u001b[1;33m+\u001b[0m \u001b[0malphabet\u001b[0m\u001b[1;33m[\u001b[0m\u001b[0malpha_index\u001b[0m\u001b[1;33m+\u001b[0m\u001b[1;36m30\u001b[0m\u001b[1;33m]\u001b[0m\u001b[1;33m\u001b[0m\u001b[1;33m\u001b[0m\u001b[0m\n\u001b[0m\u001b[0;32m      5\u001b[0m \u001b[0mprint\u001b[0m\u001b[1;33m(\u001b[0m\u001b[0moutput\u001b[0m\u001b[1;33m)\u001b[0m\u001b[1;33m\u001b[0m\u001b[1;33m\u001b[0m\u001b[0m\n",
      "\u001b[1;31mIndexError\u001b[0m: string index out of range"
     ]
    }
   ],
   "source": [
    "output = ''\n",
    "for char in input_text:\n",
    "    alpha_index = alphabet.find(char)\n",
    "    output = output + alphabet[alpha_index+30]\n",
    "print(output)"
   ]
  },
  {
   "cell_type": "code",
   "execution_count": 6,
   "metadata": {},
   "outputs": [
    {
     "data": {
      "text/plain": [
       "4"
      ]
     },
     "execution_count": 6,
     "metadata": {},
     "output_type": "execute_result"
    }
   ],
   "source": [
    "30%26"
   ]
  },
  {
   "cell_type": "markdown",
   "metadata": {},
   "source": [
    "## Write a function to deal with shift"
   ]
  },
  {
   "cell_type": "code",
   "execution_count": 7,
   "metadata": {},
   "outputs": [],
   "source": [
    "def shift_amount(i):\n",
    "    '''Will determine the shift, taking into account the length of the alphabet. Takes integer - returns integer'''\n",
    "    return i%26"
   ]
  },
  {
   "cell_type": "markdown",
   "metadata": {},
   "source": [
    "## Now test with shift > 26"
   ]
  },
  {
   "cell_type": "code",
   "execution_count": 8,
   "metadata": {},
   "outputs": [
    {
     "name": "stdout",
     "output_type": "stream",
     "text": [
      "lipps\n"
     ]
    }
   ],
   "source": [
    "output_1 = ''\n",
    "for char in input_text:\n",
    "    alpha_index = alphabet.find(char)\n",
    "    output_1 = output_1 + alphabet[shift_amount(alpha_index+30)]\n",
    "print(output_1)    "
   ]
  },
  {
   "cell_type": "markdown",
   "metadata": {},
   "source": [
    "## A complete function"
   ]
  },
  {
   "cell_type": "code",
   "execution_count": 9,
   "metadata": {},
   "outputs": [],
   "source": [
    "def encrypt(text,required_shift):\n",
    "    out_string = ''\n",
    "    text = text.lower()\n",
    "    for char in text:\n",
    "        if char not in alphabet:\n",
    "            out_string = out_string + char\n",
    "        else:    \n",
    "            alpha_index = alphabet.find(char)\n",
    "            out_string = out_string + alphabet[shift_amount(alpha_index +required_shift)]\n",
    "    return out_string\n"
   ]
  },
  {
   "cell_type": "code",
   "execution_count": 10,
   "metadata": {},
   "outputs": [],
   "source": [
    "new_string = 'Once upon'\n",
    "shift = encrypt(new_string,5)"
   ]
  },
  {
   "cell_type": "code",
   "execution_count": 11,
   "metadata": {},
   "outputs": [
    {
     "data": {
      "text/plain": [
       "'tshj zuts'"
      ]
     },
     "execution_count": 11,
     "metadata": {},
     "output_type": "execute_result"
    }
   ],
   "source": [
    "shift"
   ]
  },
  {
   "cell_type": "code",
   "execution_count": 12,
   "metadata": {},
   "outputs": [
    {
     "name": "stdout",
     "output_type": "stream",
     "text": [
      "s myxpocc kd droco gybnc k crennob zkccon\n",
      "drbyeqr wo. drobo gkc k drbsvv sx dro nymdyb’c fysmo\n",
      "grsmr crygon drkd ro gkc rswcovp noozvi wyfon\n",
      "li drkd grsmr ro dyvn ec. ryvwoc vokxon pybgkbn\n",
      "sx rsc ohmsdowoxd kxn rsc oioc rkn dro rkbn, nbi\n",
      "qvsddob grsmr cryd pbyw drow grox ro gkc uooxvi\n",
      "sxdobocdon.\n"
     ]
    }
   ],
   "source": [
    "basker = '''I confess at these words a shudder passed\n",
    "through me. There was a thrill in the doctor’s voice\n",
    "which showed that he was himself deeply moved\n",
    "by that which he told us. Holmes leaned forward\n",
    "in his excitement and his eyes had the hard, dry\n",
    "glitter which shot from them when he was keenly\n",
    "interested.'''\n",
    "\n",
    "encrypt_basker = encrypt(basker,10)\n",
    "print(encrypt_basker)"
   ]
  },
  {
   "cell_type": "code",
   "execution_count": 13,
   "metadata": {},
   "outputs": [
    {
     "name": "stdout",
     "output_type": "stream",
     "text": [
      "i confess at these words a shudder passed\n",
      "through me. there was a thrill in the doctor’s voice\n",
      "which showed that he was himself deeply moved\n",
      "by that which he told us. holmes leaned forward\n",
      "in his excitement and his eyes had the hard, dry\n",
      "glitter which shot from them when he was keenly\n",
      "interested.\n"
     ]
    }
   ],
   "source": [
    "print(encrypt(encrypt_basker,-10))"
   ]
  },
  {
   "cell_type": "code",
   "execution_count": 14,
   "metadata": {},
   "outputs": [
    {
     "name": "stdout",
     "output_type": "stream",
     "text": [
      "esp nle dle zy esp xle\n"
     ]
    }
   ],
   "source": [
    "question_text = 'The cat sat on the mat'\n",
    "print(encrypt(question_text,11))"
   ]
  },
  {
   "cell_type": "code",
   "execution_count": null,
   "metadata": {},
   "outputs": [],
   "source": [
    "question_text."
   ]
  }
 ],
 "metadata": {
  "kernelspec": {
   "display_name": "Python 3",
   "language": "python",
   "name": "python3"
  },
  "language_info": {
   "codemirror_mode": {
    "name": "ipython",
    "version": 3
   },
   "file_extension": ".py",
   "mimetype": "text/x-python",
   "name": "python",
   "nbconvert_exporter": "python",
   "pygments_lexer": "ipython3",
   "version": "3.7.4"
  }
 },
 "nbformat": 4,
 "nbformat_minor": 2
}
